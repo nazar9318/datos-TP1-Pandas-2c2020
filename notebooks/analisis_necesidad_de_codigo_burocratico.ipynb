{
 "cells": [
  {
   "cell_type": "code",
   "execution_count": 10,
   "metadata": {},
   "outputs": [],
   "source": [
    "import numpy as np\n",
    "import pandas as pd\n",
    "import matplotlib.pyplot as plt"
   ]
  },
  {
   "cell_type": "code",
   "execution_count": 11,
   "metadata": {},
   "outputs": [],
   "source": [
    "df = pd.read_csv(\"../data/original/Entrenamiento.csv\")"
   ]
  },
  {
   "cell_type": "code",
   "execution_count": 12,
   "metadata": {},
   "outputs": [
    {
     "data": {
      "text/html": [
       "<div>\n",
       "<style scoped>\n",
       "    .dataframe tbody tr th:only-of-type {\n",
       "        vertical-align: middle;\n",
       "    }\n",
       "\n",
       "    .dataframe tbody tr th {\n",
       "        vertical-align: top;\n",
       "    }\n",
       "\n",
       "    .dataframe thead th {\n",
       "        text-align: right;\n",
       "    }\n",
       "</style>\n",
       "<table border=\"1\" class=\"dataframe\">\n",
       "  <thead>\n",
       "    <tr style=\"text-align: right;\">\n",
       "      <th></th>\n",
       "      <th>Bureaucratic_Code_0_Approval</th>\n",
       "      <th>Bureaucratic_Code_0_Approved</th>\n",
       "      <th>Stage</th>\n",
       "    </tr>\n",
       "  </thead>\n",
       "  <tbody>\n",
       "    <tr>\n",
       "      <th>0</th>\n",
       "      <td>1</td>\n",
       "      <td>1</td>\n",
       "      <td>Closed Lost</td>\n",
       "    </tr>\n",
       "    <tr>\n",
       "      <th>1</th>\n",
       "      <td>0</td>\n",
       "      <td>0</td>\n",
       "      <td>Closed Won</td>\n",
       "    </tr>\n",
       "    <tr>\n",
       "      <th>2</th>\n",
       "      <td>0</td>\n",
       "      <td>0</td>\n",
       "      <td>Closed Won</td>\n",
       "    </tr>\n",
       "    <tr>\n",
       "      <th>3</th>\n",
       "      <td>1</td>\n",
       "      <td>0</td>\n",
       "      <td>Closed Lost</td>\n",
       "    </tr>\n",
       "    <tr>\n",
       "      <th>4</th>\n",
       "      <td>1</td>\n",
       "      <td>0</td>\n",
       "      <td>Closed Lost</td>\n",
       "    </tr>\n",
       "    <tr>\n",
       "      <th>...</th>\n",
       "      <td>...</td>\n",
       "      <td>...</td>\n",
       "      <td>...</td>\n",
       "    </tr>\n",
       "    <tr>\n",
       "      <th>16942</th>\n",
       "      <td>1</td>\n",
       "      <td>1</td>\n",
       "      <td>Closed Won</td>\n",
       "    </tr>\n",
       "    <tr>\n",
       "      <th>16943</th>\n",
       "      <td>1</td>\n",
       "      <td>1</td>\n",
       "      <td>Closed Won</td>\n",
       "    </tr>\n",
       "    <tr>\n",
       "      <th>16944</th>\n",
       "      <td>1</td>\n",
       "      <td>1</td>\n",
       "      <td>Closed Won</td>\n",
       "    </tr>\n",
       "    <tr>\n",
       "      <th>16945</th>\n",
       "      <td>1</td>\n",
       "      <td>1</td>\n",
       "      <td>Closed Lost</td>\n",
       "    </tr>\n",
       "    <tr>\n",
       "      <th>16946</th>\n",
       "      <td>1</td>\n",
       "      <td>1</td>\n",
       "      <td>Closed Lost</td>\n",
       "    </tr>\n",
       "  </tbody>\n",
       "</table>\n",
       "<p>16947 rows × 3 columns</p>\n",
       "</div>"
      ],
      "text/plain": [
       "       Bureaucratic_Code_0_Approval  Bureaucratic_Code_0_Approved        Stage\n",
       "0                                 1                             1  Closed Lost\n",
       "1                                 0                             0   Closed Won\n",
       "2                                 0                             0   Closed Won\n",
       "3                                 1                             0  Closed Lost\n",
       "4                                 1                             0  Closed Lost\n",
       "...                             ...                           ...          ...\n",
       "16942                             1                             1   Closed Won\n",
       "16943                             1                             1   Closed Won\n",
       "16944                             1                             1   Closed Won\n",
       "16945                             1                             1  Closed Lost\n",
       "16946                             1                             1  Closed Lost\n",
       "\n",
       "[16947 rows x 3 columns]"
      ]
     },
     "execution_count": 12,
     "metadata": {},
     "output_type": "execute_result"
    }
   ],
   "source": [
    "df = df[['Bureaucratic_Code_0_Approval','Bureaucratic_Code_0_Approved','Stage']]\n",
    "df"
   ]
  },
  {
   "cell_type": "code",
   "execution_count": 13,
   "metadata": {},
   "outputs": [
    {
     "data": {
      "text/plain": [
       "4    8889\n",
       "1    5404\n",
       "2    2654\n",
       "Name: estado1, dtype: int64"
      ]
     },
     "execution_count": 13,
     "metadata": {},
     "output_type": "execute_result"
    }
   ],
   "source": [
    "conditionlist = [\n",
    "    (df['Bureaucratic_Code_0_Approval'] == 1) & (df['Bureaucratic_Code_0_Approved'] == 1),\n",
    "    (df['Bureaucratic_Code_0_Approval'] == 1) & (df['Bureaucratic_Code_0_Approved'] == 0),\n",
    "    (df['Bureaucratic_Code_0_Approval'] == 0) & (df['Bureaucratic_Code_0_Approved'] == 1),\n",
    "    (df['Bureaucratic_Code_0_Approval'] == 0) & (df['Bureaucratic_Code_0_Approved'] == 0)]\n",
    "choicelist = [1, 2, 3, 4]\n",
    "\n",
    "df['estado1'] = np.select(conditionlist, choicelist, default='Not Specified')\n",
    "df['estado1'].value_counts()"
   ]
  },
  {
   "cell_type": "code",
   "execution_count": 14,
   "metadata": {},
   "outputs": [
    {
     "data": {
      "text/plain": [
       "7    6715\n",
       "8    4871\n",
       "5    2818\n",
       "6    2543\n",
       "Name: estado2, dtype: int64"
      ]
     },
     "execution_count": 14,
     "metadata": {},
     "output_type": "execute_result"
    }
   ],
   "source": [
    "conditionlist = [\n",
    "    (df['Bureaucratic_Code_0_Approved'] == 1) & (df['Stage'] == 'Closed Won'),\n",
    "    (df['Bureaucratic_Code_0_Approved'] == 1) & (df['Stage'] == 'Closed Lost'),\n",
    "    (df['Bureaucratic_Code_0_Approved'] == 0) & (df['Stage'] == 'Closed Won'),\n",
    "    (df['Bureaucratic_Code_0_Approved'] == 0) & (df['Stage'] == 'Closed Lost')]\n",
    "choicelist = [5, 6, 7, 8]\n",
    "\n",
    "df['estado2'] = np.select(conditionlist, choicelist, default=8)\n",
    "df['estado2'].value_counts()"
   ]
  },
  {
   "cell_type": "code",
   "execution_count": 9,
   "metadata": {},
   "outputs": [
    {
     "data": {
      "text/plain": [
       "[8889, 5404, 2654, 6715, 4871, 2818, 2543]"
      ]
     },
     "execution_count": 9,
     "metadata": {},
     "output_type": "execute_result"
    }
   ],
   "source": [
    "e1 = df['estado1'].value_counts().values\n",
    "e2 = df['estado2'].value_counts().values\n",
    "values = np.concatenate((e1, e2), axis=None).tolist()\n",
    "values"
   ]
  }
 ],
 "metadata": {
  "kernelspec": {
   "display_name": "Python 3",
   "language": "python",
   "name": "python3"
  },
  "language_info": {
   "codemirror_mode": {
    "name": "ipython",
    "version": 3
   },
   "file_extension": ".py",
   "mimetype": "text/x-python",
   "name": "python",
   "nbconvert_exporter": "python",
   "pygments_lexer": "ipython3",
   "version": "3.8.3"
  }
 },
 "nbformat": 4,
 "nbformat_minor": 4
}
