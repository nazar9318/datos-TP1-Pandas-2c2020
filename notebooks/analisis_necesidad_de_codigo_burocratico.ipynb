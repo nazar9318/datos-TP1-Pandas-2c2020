{
 "cells": [
  {
   "cell_type": "code",
   "execution_count": 1,
   "metadata": {},
   "outputs": [],
   "source": [
    "import numpy as np\n",
    "import pandas as pd\n",
    "import matplotlib.pyplot as plt"
   ]
  },
  {
   "cell_type": "code",
   "execution_count": 13,
   "metadata": {},
   "outputs": [],
   "source": [
    "df = pd.read_csv(\"../data/original/Entrenamiento.csv\")"
   ]
  },
  {
   "cell_type": "code",
   "execution_count": 17,
   "metadata": {},
   "outputs": [
    {
     "data": {
      "text/plain": [
       "Closed Won     9533\n",
       "Closed Lost    7350\n",
       "Name: Stage, dtype: int64"
      ]
     },
     "execution_count": 17,
     "metadata": {},
     "output_type": "execute_result"
    }
   ],
   "source": [
    "df = df[(df['Stage']!='Proposal') & (df['Stage']!='Negotiation') & (df['Stage']!='Qualification')]\n",
    "df = df[['Bureaucratic_Code_0_Approval','Bureaucratic_Code_0_Approved','Stage']]\n",
    "df['Stage'].value_counts()"
   ]
  },
  {
   "cell_type": "code",
   "execution_count": 28,
   "metadata": {},
   "outputs": [
    {
     "data": {
      "text/plain": [
       "1    5361\n",
       "2    2633\n",
       "4    8889\n",
       "Name: estado1, dtype: int64"
      ]
     },
     "execution_count": 28,
     "metadata": {},
     "output_type": "execute_result"
    }
   ],
   "source": [
    "conditionlist = [\n",
    "    (df['Bureaucratic_Code_0_Approval'] == 1) & (df['Bureaucratic_Code_0_Approved'] == 1),\n",
    "    (df['Bureaucratic_Code_0_Approval'] == 1) & (df['Bureaucratic_Code_0_Approved'] == 0),\n",
    "    (df['Bureaucratic_Code_0_Approval'] == 0) & (df['Bureaucratic_Code_0_Approved'] == 1),\n",
    "    (df['Bureaucratic_Code_0_Approval'] == 0) & (df['Bureaucratic_Code_0_Approved'] == 0)]\n",
    "choicelist = [1, 2, 3, 4]\n",
    "\n",
    "df['estado1'] = np.select(conditionlist, choicelist, default='Not Specified')\n",
    "df['estado1'].value_counts().sort_index()"
   ]
  },
  {
   "cell_type": "code",
   "execution_count": 19,
   "metadata": {},
   "outputs": [
    {
     "data": {
      "text/plain": [
       "0    11522\n",
       "1     5361\n",
       "Name: Bureaucratic_Code_0_Approved, dtype: int64"
      ]
     },
     "execution_count": 19,
     "metadata": {},
     "output_type": "execute_result"
    }
   ],
   "source": [
    "df['Bureaucratic_Code_0_Approved'].value_counts()"
   ]
  },
  {
   "cell_type": "code",
   "execution_count": 21,
   "metadata": {},
   "outputs": [
    {
     "data": {
      "text/plain": [
       "11522"
      ]
     },
     "execution_count": 21,
     "metadata": {},
     "output_type": "execute_result"
    }
   ],
   "source": [
    "8889+2633"
   ]
  },
  {
   "cell_type": "code",
   "execution_count": 29,
   "metadata": {},
   "outputs": [
    {
     "data": {
      "text/plain": [
       "5    2818\n",
       "6    2543\n",
       "7    6715\n",
       "8    4807\n",
       "Name: estado2, dtype: int64"
      ]
     },
     "execution_count": 29,
     "metadata": {},
     "output_type": "execute_result"
    }
   ],
   "source": [
    "conditionlist = [\n",
    "    (df['Bureaucratic_Code_0_Approved'] == 1) & (df['Stage'] == 'Closed Won'),\n",
    "    (df['Bureaucratic_Code_0_Approved'] == 1) & (df['Stage'] == 'Closed Lost'),\n",
    "    (df['Bureaucratic_Code_0_Approved'] == 0) & (df['Stage'] == 'Closed Won'),\n",
    "    (df['Bureaucratic_Code_0_Approved'] == 0) & (df['Stage'] == 'Closed Lost')]\n",
    "choicelist = [5, 6, 7, 8]\n",
    "\n",
    "df['estado2'] = np.select(conditionlist, choicelist, default=8)\n",
    "df['estado2'].value_counts().sort_index()"
   ]
  },
  {
   "cell_type": "code",
   "execution_count": 11,
   "metadata": {},
   "outputs": [
    {
     "data": {
      "text/plain": [
       "5361"
      ]
     },
     "execution_count": 11,
     "metadata": {},
     "output_type": "execute_result"
    }
   ],
   "source": [
    "2818+2543"
   ]
  },
  {
   "cell_type": "code",
   "execution_count": 23,
   "metadata": {},
   "outputs": [
    {
     "data": {
      "text/plain": [
       "11522"
      ]
     },
     "execution_count": 23,
     "metadata": {},
     "output_type": "execute_result"
    }
   ],
   "source": [
    "6715+4807"
   ]
  },
  {
   "cell_type": "code",
   "execution_count": 30,
   "metadata": {},
   "outputs": [
    {
     "data": {
      "text/plain": [
       "[5361, 2633, 8889, 2818, 2543, 6715, 4807]"
      ]
     },
     "execution_count": 30,
     "metadata": {},
     "output_type": "execute_result"
    }
   ],
   "source": [
    "e1 = df['estado1'].value_counts().sort_index().values\n",
    "e2 = df['estado2'].value_counts().sort_index().values\n",
    "values = np.concatenate((e1, e2), axis=None).tolist()\n",
    "values"
   ]
  },
  {
   "cell_type": "code",
   "execution_count": 31,
   "metadata": {},
   "outputs": [
    {
     "data": {
      "text/plain": [
       "array([0.31753835, 0.1559557 , 0.52650595])"
      ]
     },
     "execution_count": 31,
     "metadata": {},
     "output_type": "execute_result"
    }
   ],
   "source": [
    "e1/e1.sum()"
   ]
  },
  {
   "cell_type": "code",
   "execution_count": null,
   "metadata": {},
   "outputs": [],
   "source": []
  }
 ],
 "metadata": {
  "kernelspec": {
   "display_name": "Python 3",
   "language": "python",
   "name": "python3"
  },
  "language_info": {
   "codemirror_mode": {
    "name": "ipython",
    "version": 3
   },
   "file_extension": ".py",
   "mimetype": "text/x-python",
   "name": "python",
   "nbconvert_exporter": "python",
   "pygments_lexer": "ipython3",
   "version": "3.8.3"
  }
 },
 "nbformat": 4,
 "nbformat_minor": 4
}
