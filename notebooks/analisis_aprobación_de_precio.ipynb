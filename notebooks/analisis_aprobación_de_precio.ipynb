{
 "cells": [
  {
   "cell_type": "code",
   "execution_count": 1,
   "metadata": {},
   "outputs": [],
   "source": [
    "import numpy as np\n",
    "import pandas as pd\n",
    "import matplotlib.pyplot as plt"
   ]
  },
  {
   "cell_type": "code",
   "execution_count": 2,
   "metadata": {},
   "outputs": [],
   "source": [
    "df = pd.read_csv(\"../data/original/Entrenamiento.csv\")\n",
    "df = df[(df['Stage']!='Proposal') & (df['Stage']!='Negotiation') & (df['Stage']!='Qualification')]"
   ]
  },
  {
   "cell_type": "code",
   "execution_count": 3,
   "metadata": {},
   "outputs": [
    {
     "data": {
      "text/html": [
       "<div>\n",
       "<style scoped>\n",
       "    .dataframe tbody tr th:only-of-type {\n",
       "        vertical-align: middle;\n",
       "    }\n",
       "\n",
       "    .dataframe tbody tr th {\n",
       "        vertical-align: top;\n",
       "    }\n",
       "\n",
       "    .dataframe thead th {\n",
       "        text-align: right;\n",
       "    }\n",
       "</style>\n",
       "<table border=\"1\" class=\"dataframe\">\n",
       "  <thead>\n",
       "    <tr style=\"text-align: right;\">\n",
       "      <th></th>\n",
       "      <th>Pricing, Delivery_Terms_Quote_Appr</th>\n",
       "      <th>Pricing, Delivery_Terms_Approved</th>\n",
       "      <th>Stage</th>\n",
       "    </tr>\n",
       "  </thead>\n",
       "  <tbody>\n",
       "    <tr>\n",
       "      <th>0</th>\n",
       "      <td>1</td>\n",
       "      <td>1</td>\n",
       "      <td>Closed Lost</td>\n",
       "    </tr>\n",
       "    <tr>\n",
       "      <th>1</th>\n",
       "      <td>0</td>\n",
       "      <td>0</td>\n",
       "      <td>Closed Won</td>\n",
       "    </tr>\n",
       "    <tr>\n",
       "      <th>2</th>\n",
       "      <td>0</td>\n",
       "      <td>0</td>\n",
       "      <td>Closed Won</td>\n",
       "    </tr>\n",
       "    <tr>\n",
       "      <th>3</th>\n",
       "      <td>1</td>\n",
       "      <td>0</td>\n",
       "      <td>Closed Lost</td>\n",
       "    </tr>\n",
       "    <tr>\n",
       "      <th>4</th>\n",
       "      <td>1</td>\n",
       "      <td>0</td>\n",
       "      <td>Closed Lost</td>\n",
       "    </tr>\n",
       "    <tr>\n",
       "      <th>...</th>\n",
       "      <td>...</td>\n",
       "      <td>...</td>\n",
       "      <td>...</td>\n",
       "    </tr>\n",
       "    <tr>\n",
       "      <th>16942</th>\n",
       "      <td>1</td>\n",
       "      <td>1</td>\n",
       "      <td>Closed Won</td>\n",
       "    </tr>\n",
       "    <tr>\n",
       "      <th>16943</th>\n",
       "      <td>1</td>\n",
       "      <td>1</td>\n",
       "      <td>Closed Won</td>\n",
       "    </tr>\n",
       "    <tr>\n",
       "      <th>16944</th>\n",
       "      <td>1</td>\n",
       "      <td>1</td>\n",
       "      <td>Closed Won</td>\n",
       "    </tr>\n",
       "    <tr>\n",
       "      <th>16945</th>\n",
       "      <td>1</td>\n",
       "      <td>1</td>\n",
       "      <td>Closed Lost</td>\n",
       "    </tr>\n",
       "    <tr>\n",
       "      <th>16946</th>\n",
       "      <td>1</td>\n",
       "      <td>1</td>\n",
       "      <td>Closed Lost</td>\n",
       "    </tr>\n",
       "  </tbody>\n",
       "</table>\n",
       "<p>16883 rows × 3 columns</p>\n",
       "</div>"
      ],
      "text/plain": [
       "       Pricing, Delivery_Terms_Quote_Appr  Pricing, Delivery_Terms_Approved  \\\n",
       "0                                       1                                 1   \n",
       "1                                       0                                 0   \n",
       "2                                       0                                 0   \n",
       "3                                       1                                 0   \n",
       "4                                       1                                 0   \n",
       "...                                   ...                               ...   \n",
       "16942                                   1                                 1   \n",
       "16943                                   1                                 1   \n",
       "16944                                   1                                 1   \n",
       "16945                                   1                                 1   \n",
       "16946                                   1                                 1   \n",
       "\n",
       "             Stage  \n",
       "0      Closed Lost  \n",
       "1       Closed Won  \n",
       "2       Closed Won  \n",
       "3      Closed Lost  \n",
       "4      Closed Lost  \n",
       "...            ...  \n",
       "16942   Closed Won  \n",
       "16943   Closed Won  \n",
       "16944   Closed Won  \n",
       "16945  Closed Lost  \n",
       "16946  Closed Lost  \n",
       "\n",
       "[16883 rows x 3 columns]"
      ]
     },
     "execution_count": 3,
     "metadata": {},
     "output_type": "execute_result"
    }
   ],
   "source": [
    "df = df[['Pricing, Delivery_Terms_Quote_Appr','Pricing, Delivery_Terms_Approved','Stage']]\n",
    "df"
   ]
  },
  {
   "cell_type": "code",
   "execution_count": 4,
   "metadata": {},
   "outputs": [
    {
     "data": {
      "text/plain": [
       "1    13629\n",
       "0     3254\n",
       "Name: Pricing, Delivery_Terms_Quote_Appr, dtype: int64"
      ]
     },
     "execution_count": 4,
     "metadata": {},
     "output_type": "execute_result"
    }
   ],
   "source": [
    "df['Pricing, Delivery_Terms_Quote_Appr'].value_counts()"
   ]
  },
  {
   "cell_type": "code",
   "execution_count": 5,
   "metadata": {},
   "outputs": [
    {
     "data": {
      "text/plain": [
       "1    9847\n",
       "2    3782\n",
       "4    3254\n",
       "Name: estado1, dtype: int64"
      ]
     },
     "execution_count": 5,
     "metadata": {},
     "output_type": "execute_result"
    }
   ],
   "source": [
    "conditionlist = [\n",
    "    (df['Pricing, Delivery_Terms_Quote_Appr'] == 1) & (df['Pricing, Delivery_Terms_Approved'] == 1),\n",
    "    (df['Pricing, Delivery_Terms_Quote_Appr'] == 1) & (df['Pricing, Delivery_Terms_Approved'] == 0),\n",
    "    (df['Pricing, Delivery_Terms_Quote_Appr'] == 0) & (df['Pricing, Delivery_Terms_Approved'] == 1),\n",
    "    (df['Pricing, Delivery_Terms_Quote_Appr'] == 0) & (df['Pricing, Delivery_Terms_Approved'] == 0)]\n",
    "choicelist = [1, 2, 3, 4]\n",
    "\n",
    "df['estado1'] = np.select(conditionlist, choicelist, default='Not Specified')\n",
    "df['estado1'].value_counts().sort_index()"
   ]
  },
  {
   "cell_type": "code",
   "execution_count": 6,
   "metadata": {},
   "outputs": [
    {
     "data": {
      "text/plain": [
       "5    6404\n",
       "6    3443\n",
       "7    3129\n",
       "8    3907\n",
       "Name: estado2, dtype: int64"
      ]
     },
     "execution_count": 6,
     "metadata": {},
     "output_type": "execute_result"
    }
   ],
   "source": [
    "conditionlist = [\n",
    "    (df['Pricing, Delivery_Terms_Approved'] == 1) & (df['Stage'] == 'Closed Won'),\n",
    "    (df['Pricing, Delivery_Terms_Approved'] == 1) & (df['Stage'] == 'Closed Lost'),\n",
    "    (df['Pricing, Delivery_Terms_Approved'] == 0) & (df['Stage'] == 'Closed Won'),\n",
    "    (df['Pricing, Delivery_Terms_Approved'] == 0) & (df['Stage'] == 'Closed Lost')]\n",
    "choicelist = [5, 6, 7, 8]\n",
    "\n",
    "df['estado2'] = np.select(conditionlist, choicelist, default=8)\n",
    "df['estado2'].value_counts().sort_index()"
   ]
  },
  {
   "cell_type": "code",
   "execution_count": 7,
   "metadata": {},
   "outputs": [
    {
     "data": {
      "text/plain": [
       "[9847, 3782, 3254, 6404, 3443, 3129, 3907]"
      ]
     },
     "execution_count": 7,
     "metadata": {},
     "output_type": "execute_result"
    }
   ],
   "source": [
    "e1 = df['estado1'].value_counts().sort_index().values\n",
    "e2 = df['estado2'].value_counts().sort_index().values\n",
    "values = np.concatenate((e1, e2), axis=None).tolist()\n",
    "values"
   ]
  }
 ],
 "metadata": {
  "kernelspec": {
   "display_name": "Python 3",
   "language": "python",
   "name": "python3"
  },
  "language_info": {
   "codemirror_mode": {
    "name": "ipython",
    "version": 3
   },
   "file_extension": ".py",
   "mimetype": "text/x-python",
   "name": "python",
   "nbconvert_exporter": "python",
   "pygments_lexer": "ipython3",
   "version": "3.8.3"
  }
 },
 "nbformat": 4,
 "nbformat_minor": 4
}
